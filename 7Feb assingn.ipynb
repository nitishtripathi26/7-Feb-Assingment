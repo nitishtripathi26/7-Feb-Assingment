{
 "cells": [
  {
   "cell_type": "code",
   "execution_count": null,
   "id": "0f649d64-0f12-4982-8966-4312e33e5c80",
   "metadata": {},
   "outputs": [],
   "source": []
  },
  {
   "cell_type": "raw",
   "id": "bd78f920-ddc5-4d3d-939c-f94730146903",
   "metadata": {},
   "source": [
    "Question 1-You are writing code for a company. The requirement of the company is that you create a python\n",
    "function that will check whether the password entered by the user is correct or not. The function should\n",
    "take the password as input and return the string “Valid Password” if the entered password follows the\n",
    "below-given password guidelines else it should return “Invalid Password”.\n",
    "\n",
    "  Note: 1. The Password should contain at least two uppercase letters and at least two lowercase letters.\n",
    "        2. The Password should contain at least a number and three special characters.\n",
    "        3. The length of the password should be 10 characters long."
   ]
  },
  {
   "cell_type": "code",
   "execution_count": 6,
   "id": "737fae5b-49c9-45c2-9ccf-2b0ff6be3203",
   "metadata": {},
   "outputs": [
    {
     "name": "stdin",
     "output_type": "stream",
     "text": [
      "ENTER THE PASSWORD:  NNaa@#$1nn\n"
     ]
    },
    {
     "name": "stdout",
     "output_type": "stream",
     "text": [
      "Valid Password\n"
     ]
    }
   ],
   "source": [
    "pswd=input('ENTER THE PASSWORD: ')\n",
    "u,l,n,c=0,0,0,0\n",
    "for i in pswd:\n",
    "        if i.isupper() ==True :\n",
    "            u=u+1 \n",
    "        if i.islower() ==True :\n",
    "            l=l+1 \n",
    "        if i.isdigit() == True :\n",
    "            n=n+1 \n",
    "        #Checking the ascii code of special characters:\n",
    "        if (ord(i)>=32 and ord(i)<=47) or (ord(i)>=58 and ord(i)<=64) or (ord(i)>=91 and ord(i)<=96) or (ord(i)>=123 and ord(i)<=126):\n",
    "            c=c+1\n",
    "if u>=2 and l>=2 and n>=1 and c>=3 and len(pswd)==10:\n",
    "    print('Valid Password')\n",
    "else:\n",
    "    print('Invalid Password')"
   ]
  },
  {
   "cell_type": "code",
   "execution_count": null,
   "id": "359616f4-14e5-4842-a596-afde7e71df67",
   "metadata": {},
   "outputs": [],
   "source": []
  }
 ],
 "metadata": {
  "kernelspec": {
   "display_name": "Python 3 (ipykernel)",
   "language": "python",
   "name": "python3"
  },
  "language_info": {
   "codemirror_mode": {
    "name": "ipython",
    "version": 3
   },
   "file_extension": ".py",
   "mimetype": "text/x-python",
   "name": "python",
   "nbconvert_exporter": "python",
   "pygments_lexer": "ipython3",
   "version": "3.10.8"
  }
 },
 "nbformat": 4,
 "nbformat_minor": 5
}
