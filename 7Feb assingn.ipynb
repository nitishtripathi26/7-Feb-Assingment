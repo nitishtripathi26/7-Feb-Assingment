{
 "cells": [
  {
   "cell_type": "code",
   "execution_count": null,
   "id": "0f649d64-0f12-4982-8966-4312e33e5c80",
   "metadata": {},
   "outputs": [],
   "source": [
    "7 Febraury Assingment\n",
    "\n",
    "Submitted By -\"Nitish Tripathi\"\n",
    "To,\n",
    "   \"Pwskills\" Impact Batch for Data Science Masters."
   ]
  },
  {
   "cell_type": "markdown",
   "id": "f87afdb0-62bb-4a63-a740-3fcae6b21c1b",
   "metadata": {},
   "source": [
    "Question 1-You are writing code for a company. The requirement of the company is that you create a python\n",
    "function that will check whether the password entered by the user is correct or not. The function should\n",
    "take the password as input and return the string “Valid Password” if the entered password follows the\n",
    "below-given password guidelines else it should return “Invalid Password”.\n",
    "\n",
    "Note: \n",
    "1. The Password should contain at least two uppercase letters and at least two lowercase letters.\n",
    "2. The Password should contain at least a number and three special characters.\n",
    "3. The length of the password should be 10 characters long."
   ]
  },
  {
   "cell_type": "code",
   "execution_count": null,
   "id": "7d3c84b6-8a3f-4e5d-a0f0-c352f796e88c",
   "metadata": {},
   "outputs": [],
   "source": [
    "pswd=input('ENTER THE PASSWORD: ')\n",
    "u,l,n,c=0,0,0,0\n",
    "for i in pswd:\n",
    "        if i.isupper() ==True :\n",
    "            u=u+1 \n",
    "        if i.islower() ==True :\n",
    "            l=l+1 \n",
    "        if i.isdigit() == True :\n",
    "            n=n+1 \n",
    "        #Checking the ascii code of special characters:\n",
    "        if (ord(i)>=32 and ord(i)<=47) or (ord(i)>=58 and ord(i)<=64) or (ord(i)>=91 and ord(i)<=96) or (ord(i)>=123 and ord(i)<=126):\n",
    "            c=c+1\n",
    "if u>=2 and l>=2 and n>=1 and c>=3 and len(pswd)==10:\n",
    "    print('Valid Password')\n",
    "else:\n",
    "    print('Invalid Password')"
   ]
  },
  {
   "cell_type": "markdown",
   "id": "8bb09177-1e1c-43da-a880-e3c7614704ab",
   "metadata": {},
   "source": [
    "Question 2-Solve the below-given questions using at least one of the following:\n",
    "1. Lambda function\n",
    "2. Filter function\n",
    "3. Zap function\n",
    "4. List Comprehension"
   ]
  },
  {
   "cell_type": "markdown",
   "id": "4bca51c3-8bb9-406e-91fd-f3ba845ae514",
   "metadata": {},
   "source": [
    "(i) Check if the string starts with a particular letter"
   ]
  },
  {
   "cell_type": "code",
   "execution_count": 2,
   "id": "4efb8bb3-df3f-4079-a177-058b8c923644",
   "metadata": {},
   "outputs": [
    {
     "name": "stdin",
     "output_type": "stream",
     "text": [
      "ENTER THE STRING:  nitish\n",
      "ENTER THE PARTICULAR LETTER:  123\n"
     ]
    },
    {
     "data": {
      "text/plain": [
       "False"
      ]
     },
     "execution_count": 2,
     "metadata": {},
     "output_type": "execute_result"
    }
   ],
   "source": [
    "s=input('ENTER THE STRING: ')\n",
    "p=input('ENTER THE PARTICULAR LETTER: ')\n",
    "a=lambda s: True if s[0]==p else False \n",
    "a(s)"
   ]
  },
  {
   "cell_type": "markdown",
   "id": "8b03f0d4-14e5-47f2-bafb-120694f6ac06",
   "metadata": {},
   "source": [
    "(ii) Check if the string is numeric"
   ]
  },
  {
   "cell_type": "code",
   "execution_count": 3,
   "id": "b3d46dc6-3d89-40be-a1f2-a5e6bfd5a2d3",
   "metadata": {},
   "outputs": [
    {
     "name": "stdin",
     "output_type": "stream",
     "text": [
      "ENTER THE STRING:  nitish\n"
     ]
    },
    {
     "data": {
      "text/plain": [
       "False"
      ]
     },
     "execution_count": 3,
     "metadata": {},
     "output_type": "execute_result"
    }
   ],
   "source": [
    "s=input('ENTER THE STRING: ') \n",
    "b=lambda s: True if s.isnumeric()==True else False \n",
    "b(s)\n"
   ]
  },
  {
   "cell_type": "markdown",
   "id": "9c63a5a3-0dc3-475f-81cf-7b0b58c95fdf",
   "metadata": {},
   "source": [
    "(iii) Sort a list of tuples having fruit names and their quantity. [(\"mango\",99),(\"orange\",80), (\"grapes\", 1000)]"
   ]
  },
  {
   "cell_type": "code",
   "execution_count": 4,
   "id": "5298820d-a1d9-44d5-b33d-ea0dab0962b2",
   "metadata": {},
   "outputs": [
    {
     "data": {
      "text/plain": [
       "[('grapes', 1000), ('mango', 99), ('orange', 80)]"
      ]
     },
     "execution_count": 4,
     "metadata": {},
     "output_type": "execute_result"
    }
   ],
   "source": [
    "#Sorting on the basis of name of fruit\n",
    "a=lambda l1: sorted(l1)\n",
    "l= [(\"mango\",99),(\"orange\",80), (\"grapes\", 1000)]\n",
    "a(l)"
   ]
  },
  {
   "cell_type": "code",
   "execution_count": 5,
   "id": "b20aa4af-6907-48c6-9519-0437291968a7",
   "metadata": {},
   "outputs": [
    {
     "data": {
      "text/plain": [
       "[('orange', 80), ('mango', 99), ('grapes', 1000)]"
      ]
     },
     "execution_count": 5,
     "metadata": {},
     "output_type": "execute_result"
    }
   ],
   "source": [
    "#Sorting on the basis of quantity of fruit\n",
    "a=lambda l1: sorted(l1,key = lambda x:x[1])\n",
    "l= [(\"mango\",99),(\"orange\",80), (\"grapes\", 1000)]\n",
    "a(l)"
   ]
  },
  {
   "cell_type": "markdown",
   "id": "02343cf5-601b-4d51-b497-48580d62b62d",
   "metadata": {},
   "source": [
    "(iv) Find the squares of numbers from 1 to 10"
   ]
  },
  {
   "cell_type": "code",
   "execution_count": 6,
   "id": "ca264dad-4bd5-4a25-887c-551471824cf1",
   "metadata": {},
   "outputs": [
    {
     "data": {
      "text/plain": [
       "[1, 4, 9, 16, 25, 36, 49, 64, 81, 100]"
      ]
     },
     "execution_count": 6,
     "metadata": {},
     "output_type": "execute_result"
    }
   ],
   "source": [
    "[i**2 for i in list(range(1,11))]\n"
   ]
  },
  {
   "cell_type": "markdown",
   "id": "3979b532-c4db-4998-a898-0a925b087ffa",
   "metadata": {},
   "source": [
    "(v) Find the cube root of numbers from 1 to 10"
   ]
  },
  {
   "cell_type": "code",
   "execution_count": 8,
   "id": "1692b4a1-64cf-4f9c-a317-81daedaad03e",
   "metadata": {},
   "outputs": [
    {
     "data": {
      "text/plain": [
       "[1.0,\n",
       " 1.2599210498948732,\n",
       " 1.4422495703074083,\n",
       " 1.5874010519681994,\n",
       " 1.7099759466766968,\n",
       " 1.8171205928321397,\n",
       " 1.912931182772389,\n",
       " 2.0,\n",
       " 2.080083823051904,\n",
       " 2.154434690031884]"
      ]
     },
     "execution_count": 8,
     "metadata": {},
     "output_type": "execute_result"
    }
   ],
   "source": [
    "[i**(1/3) for i in list(range(1,11))]\n"
   ]
  },
  {
   "cell_type": "markdown",
   "id": "279f25b2-2a09-453f-87f1-28114b838170",
   "metadata": {},
   "source": [
    "(vi) Check if a given number is even"
   ]
  },
  {
   "cell_type": "code",
   "execution_count": 9,
   "id": "c195a2de-bf2c-42bc-8ffb-d4f11051b1f5",
   "metadata": {},
   "outputs": [
    {
     "name": "stdin",
     "output_type": "stream",
     "text": [
      "Enter the number: 12\n"
     ]
    },
    {
     "data": {
      "text/plain": [
       "True"
      ]
     },
     "execution_count": 9,
     "metadata": {},
     "output_type": "execute_result"
    }
   ],
   "source": [
    "num=int(input('Enter the number:'))\n",
    "a=lambda x:True if x%2==0 else False\n",
    "a(num)"
   ]
  },
  {
   "cell_type": "markdown",
   "id": "6c99b268-ea0e-4dfa-a0b3-180c531b0f38",
   "metadata": {},
   "source": [
    "(vii) Filter odd numbers from the given list. [1,2,3,4,5,6,7,8,9,10]"
   ]
  },
  {
   "cell_type": "code",
   "execution_count": 10,
   "id": "44b96d72-e075-4249-9751-b3a65f4ac04d",
   "metadata": {},
   "outputs": [
    {
     "name": "stdout",
     "output_type": "stream",
     "text": [
      "[1, 3, 5, 7, 9]\n"
     ]
    }
   ],
   "source": [
    "l4=[1,2,3,4,5,6,7,8,9,10]\n",
    "o=list(filter(lambda x:x%2!=0,l4))\n",
    "print(o)"
   ]
  },
  {
   "cell_type": "markdown",
   "id": "9ccf073e-aced-45a4-abad-9a297183db18",
   "metadata": {},
   "source": [
    "(viii) Sort a list of integers into positive and negative integers lists. [1,2,3,4,5,6,-1,-2,-3,-4,-5,0]"
   ]
  },
  {
   "cell_type": "code",
   "execution_count": 11,
   "id": "41b7aa94-508c-44b4-8130-b15eec2e04ff",
   "metadata": {},
   "outputs": [
    {
     "name": "stdout",
     "output_type": "stream",
     "text": [
      "[0, 1, 2, 3, 4, 5, 6]\n",
      "[-5, -4, -3, -2, -1]\n"
     ]
    }
   ],
   "source": [
    "l5=[1,2,3,4,5,6,-1,-2,-3,-4,-5,0]\n",
    "lp,ln=[],[]\n",
    "a=lambda x: lp.append(x) if x>=0 else ln.append(x)\n",
    "for i in l5:\n",
    "    a(i)\n",
    "print(sorted(lp))\n",
    "print(sorted(ln))"
   ]
  },
  {
   "cell_type": "code",
   "execution_count": null,
   "id": "2b9856a8-f7ed-4e81-abe1-b1f0187f99d0",
   "metadata": {},
   "outputs": [],
   "source": []
  }
 ],
 "metadata": {
  "kernelspec": {
   "display_name": "Python 3 (ipykernel)",
   "language": "python",
   "name": "python3"
  },
  "language_info": {
   "codemirror_mode": {
    "name": "ipython",
    "version": 3
   },
   "file_extension": ".py",
   "mimetype": "text/x-python",
   "name": "python",
   "nbconvert_exporter": "python",
   "pygments_lexer": "ipython3",
   "version": "3.10.8"
  }
 },
 "nbformat": 4,
 "nbformat_minor": 5
}
